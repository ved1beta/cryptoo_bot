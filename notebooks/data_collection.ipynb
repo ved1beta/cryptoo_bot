{
 "cells": [
  {
   "cell_type": "code",
   "execution_count": 2,
   "id": "b88ffab2-1837-48d7-a1b0-916c98a40208",
   "metadata": {},
   "outputs": [
    {
     "name": "stdout",
     "output_type": "stream",
     "text": [
      "Collecting ccxt\n",
      "  Downloading ccxt-4.4.17-py2.py3-none-any.whl.metadata (114 kB)\n",
      "Requirement already satisfied: setuptools>=60.9.0 in /home/vedaya/miniconda3/lib/python3.12/site-packages (from ccxt) (72.1.0)\n",
      "Requirement already satisfied: certifi>=2018.1.18 in /home/vedaya/miniconda3/lib/python3.12/site-packages (from ccxt) (2024.8.30)\n",
      "Requirement already satisfied: requests>=2.18.4 in /home/vedaya/miniconda3/lib/python3.12/site-packages (from ccxt) (2.32.3)\n",
      "Requirement already satisfied: cryptography>=2.6.1 in /home/vedaya/miniconda3/lib/python3.12/site-packages (from ccxt) (42.0.5)\n",
      "Requirement already satisfied: typing-extensions>=4.4.0 in /home/vedaya/miniconda3/lib/python3.12/site-packages (from ccxt) (4.11.0)\n",
      "Collecting aiohttp>=3.8 (from ccxt)\n",
      "  Downloading aiohttp-3.10.10-cp312-cp312-manylinux_2_17_x86_64.manylinux2014_x86_64.whl.metadata (7.6 kB)\n",
      "Collecting aiodns>=1.1.1 (from ccxt)\n",
      "  Downloading aiodns-3.2.0-py3-none-any.whl.metadata (4.0 kB)\n",
      "Collecting yarl>=1.7.2 (from ccxt)\n",
      "  Downloading yarl-1.15.2-cp312-cp312-manylinux_2_17_x86_64.manylinux2014_x86_64.whl.metadata (56 kB)\n",
      "Collecting pycares>=4.0.0 (from aiodns>=1.1.1->ccxt)\n",
      "  Downloading pycares-4.4.0-cp312-cp312-manylinux_2_17_x86_64.manylinux2014_x86_64.whl.metadata (4.1 kB)\n",
      "Collecting aiohappyeyeballs>=2.3.0 (from aiohttp>=3.8->ccxt)\n",
      "  Downloading aiohappyeyeballs-2.4.3-py3-none-any.whl.metadata (6.1 kB)\n",
      "Collecting aiosignal>=1.1.2 (from aiohttp>=3.8->ccxt)\n",
      "  Downloading aiosignal-1.3.1-py3-none-any.whl.metadata (4.0 kB)\n",
      "Requirement already satisfied: attrs>=17.3.0 in /home/vedaya/miniconda3/lib/python3.12/site-packages (from aiohttp>=3.8->ccxt) (23.1.0)\n",
      "Collecting frozenlist>=1.1.1 (from aiohttp>=3.8->ccxt)\n",
      "  Downloading frozenlist-1.4.1-cp312-cp312-manylinux_2_5_x86_64.manylinux1_x86_64.manylinux_2_17_x86_64.manylinux2014_x86_64.whl.metadata (12 kB)\n",
      "Collecting multidict<7.0,>=4.5 (from aiohttp>=3.8->ccxt)\n",
      "  Downloading multidict-6.1.0-cp312-cp312-manylinux_2_17_x86_64.manylinux2014_x86_64.whl.metadata (5.0 kB)\n",
      "Requirement already satisfied: cffi>=1.12 in /home/vedaya/miniconda3/lib/python3.12/site-packages (from cryptography>=2.6.1->ccxt) (1.16.0)\n",
      "Requirement already satisfied: charset-normalizer<4,>=2 in /home/vedaya/miniconda3/lib/python3.12/site-packages (from requests>=2.18.4->ccxt) (3.3.2)\n",
      "Requirement already satisfied: idna<4,>=2.5 in /home/vedaya/miniconda3/lib/python3.12/site-packages (from requests>=2.18.4->ccxt) (3.7)\n",
      "Requirement already satisfied: urllib3<3,>=1.21.1 in /home/vedaya/miniconda3/lib/python3.12/site-packages (from requests>=2.18.4->ccxt) (2.2.2)\n",
      "Collecting propcache>=0.2.0 (from yarl>=1.7.2->ccxt)\n",
      "  Downloading propcache-0.2.0-cp312-cp312-manylinux_2_17_x86_64.manylinux2014_x86_64.whl.metadata (7.7 kB)\n",
      "Requirement already satisfied: pycparser in /home/vedaya/miniconda3/lib/python3.12/site-packages (from cffi>=1.12->cryptography>=2.6.1->ccxt) (2.21)\n",
      "Downloading ccxt-4.4.17-py2.py3-none-any.whl (5.4 MB)\n",
      "\u001b[2K   \u001b[38;2;114;156;31m━━━━━━━━━━━━━━━━━━━━━━━━━━━━━━━━━━━━━━━━\u001b[0m \u001b[32m5.4/5.4 MB\u001b[0m \u001b[31m10.1 MB/s\u001b[0m eta \u001b[36m0:00:00\u001b[0m MB/s\u001b[0m eta \u001b[36m0:00:01\u001b[0m01\u001b[0m\n",
      "\u001b[?25hDownloading aiodns-3.2.0-py3-none-any.whl (5.7 kB)\n",
      "Downloading aiohttp-3.10.10-cp312-cp312-manylinux_2_17_x86_64.manylinux2014_x86_64.whl (1.3 MB)\n",
      "\u001b[2K   \u001b[38;2;114;156;31m━━━━━━━━━━━━━━━━━━━━━━━━━━━━━━━━━━━━━━━━\u001b[0m \u001b[32m1.3/1.3 MB\u001b[0m \u001b[31m6.3 MB/s\u001b[0m eta \u001b[36m0:00:00\u001b[0m MB/s\u001b[0m eta \u001b[36m0:00:01\u001b[0m\n",
      "\u001b[?25hDownloading yarl-1.15.2-cp312-cp312-manylinux_2_17_x86_64.manylinux2014_x86_64.whl (330 kB)\n",
      "Downloading aiohappyeyeballs-2.4.3-py3-none-any.whl (14 kB)\n",
      "Downloading aiosignal-1.3.1-py3-none-any.whl (7.6 kB)\n",
      "Downloading frozenlist-1.4.1-cp312-cp312-manylinux_2_5_x86_64.manylinux1_x86_64.manylinux_2_17_x86_64.manylinux2014_x86_64.whl (281 kB)\n",
      "Downloading multidict-6.1.0-cp312-cp312-manylinux_2_17_x86_64.manylinux2014_x86_64.whl (131 kB)\n",
      "Downloading propcache-0.2.0-cp312-cp312-manylinux_2_17_x86_64.manylinux2014_x86_64.whl (248 kB)\n",
      "Downloading pycares-4.4.0-cp312-cp312-manylinux_2_17_x86_64.manylinux2014_x86_64.whl (290 kB)\n",
      "Installing collected packages: propcache, multidict, frozenlist, aiohappyeyeballs, yarl, pycares, aiosignal, aiohttp, aiodns, ccxt\n",
      "Successfully installed aiodns-3.2.0 aiohappyeyeballs-2.4.3 aiohttp-3.10.10 aiosignal-1.3.1 ccxt-4.4.17 frozenlist-1.4.1 multidict-6.1.0 propcache-0.2.0 pycares-4.4.0 yarl-1.15.2\n",
      "Note: you may need to restart the kernel to use updated packages.\n"
     ]
    }
   ],
   "source": [
    "pip install ccxt"
   ]
  },
  {
   "cell_type": "code",
   "execution_count": 4,
   "id": "e6394f04-597e-4b5c-bfe2-ae0d382e441d",
   "metadata": {},
   "outputs": [
    {
     "name": "stdout",
     "output_type": "stream",
     "text": [
      "            timestamp     open     high      low    close      volume\n",
      "0 2020-01-01 00:00:00  7195.24  7196.25  7175.46  7177.02  511.814901\n",
      "1 2020-01-01 01:00:00  7176.47  7230.00  7175.71  7216.27  883.052603\n",
      "2 2020-01-01 02:00:00  7215.52  7244.87  7211.41  7242.85  655.156809\n",
      "3 2020-01-01 03:00:00  7242.66  7245.00  7220.00  7225.01  783.724867\n",
      "4 2020-01-01 04:00:00  7225.00  7230.00  7215.03  7217.27  467.812578\n"
     ]
    }
   ],
   "source": [
    "import ccxt\n",
    "import pandas as pd\n",
    "\n",
    "# Initialize the exchange (e.g., Binance)\n",
    "exchange = ccxt.binance()\n",
    "\n",
    "# Fetch OHLCV data\n",
    "symbol = 'BTC/USDT'\n",
    "timeframe = '1h'\n",
    "since = exchange.parse8601('2020-01-01T00:00:00Z')\n",
    "limit = 1000  # number of candles\n",
    "\n",
    "ohlcv = exchange.fetch_ohlcv(symbol, timeframe, since, limit)\n",
    "\n",
    "# Convert to DataFrame\n",
    "df = pd.DataFrame(ohlcv, columns=['timestamp', 'open', 'high', 'low', 'close', 'volume'])\n",
    "df['timestamp'] = pd.to_datetime(df['timestamp'], unit='ms')\n",
    "\n",
    "print(df.head())"
   ]
  },
  {
   "cell_type": "code",
   "execution_count": 9,
   "id": "f535dde6-d4e1-4e79-a6ad-42c97bc43f87",
   "metadata": {},
   "outputs": [
    {
     "name": "stdout",
     "output_type": "stream",
     "text": [
      "                                price        volume    market_cap  \\\n",
      "timestamp                                                           \n",
      "2024-09-14 12:17:58.030  59794.754278  3.045667e+10  1.179449e+12   \n",
      "2024-09-14 13:06:14.982  59776.159658  3.097587e+10  1.180819e+12   \n",
      "2024-09-14 14:10:51.966  59793.056204  2.652304e+10  1.181151e+12   \n",
      "2024-09-14 15:15:19.915  59966.607677  2.783382e+10  1.184575e+12   \n",
      "2024-09-14 16:03:01.239  59890.306526  2.471999e+10  1.183152e+12   \n",
      "\n",
      "                                SMA_7        SMA_30        RSI  \n",
      "timestamp                                                       \n",
      "2024-09-14 12:17:58.030  59794.754278  59794.754278        NaN  \n",
      "2024-09-14 13:06:14.982  59785.456968  59785.456968   0.000000  \n",
      "2024-09-14 14:10:51.966  59787.990047  59787.990047  47.607751  \n",
      "2024-09-14 15:15:19.915  59832.644454  59832.644454  91.104867  \n",
      "2024-09-14 16:03:01.239  59844.176869  59844.176869  66.743355  \n",
      "                                price        volume    market_cap  \\\n",
      "timestamp                                                           \n",
      "2024-10-14 07:05:41.161  64042.882534  2.407585e+10  1.265966e+12   \n",
      "2024-10-14 08:13:39.523  64543.379023  2.760415e+10  1.275311e+12   \n",
      "2024-10-14 09:18:17.123  64460.804138  2.890939e+10  1.272259e+12   \n",
      "2024-10-14 10:03:38.197  64772.015868  2.923183e+10  1.281247e+12   \n",
      "2024-10-14 11:07:06.000  64765.354296  3.048997e+10  1.280334e+12   \n",
      "\n",
      "                                SMA_7        SMA_30        RSI  \n",
      "timestamp                                                       \n",
      "2024-10-14 07:05:41.161  63425.135294  62870.650978  64.221558  \n",
      "2024-10-14 08:13:39.523  63715.116285  62926.313125  71.529393  \n",
      "2024-10-14 09:18:17.123  63992.206021  62981.187790  70.155202  \n",
      "2024-10-14 10:03:38.197  64296.570669  63049.274293  70.942728  \n",
      "2024-10-14 11:07:06.000  64352.344545  63113.759010  70.446092  \n"
     ]
    },
    {
     "name": "stderr",
     "output_type": "stream",
     "text": [
      "/tmp/ipykernel_25901/2455295060.py:31: FutureWarning: DataFrame.fillna with 'method' is deprecated and will raise in a future version. Use obj.ffill() or obj.bfill() instead.\n",
      "  df.fillna(method='ffill', inplace=True)\n"
     ]
    }
   ],
   "source": [
    "import requests\n",
    "import pandas as pd\n",
    "import numpy as np\n",
    "from datetime import datetime, timedelta\n",
    "\n",
    "def fetch_crypto_data(coin_id, vs_currency, days, handle_nan='drop'):\n",
    "    url = f\"https://api.coingecko.com/api/v3/coins/{coin_id}/market_chart\"\n",
    "    params = {\n",
    "        \"vs_currency\": vs_currency,\n",
    "        \"days\": days\n",
    "    }\n",
    "    response = requests.get(url, params=params)\n",
    "    data = response.json()\n",
    "    \n",
    "    df = pd.DataFrame(data['prices'], columns=['timestamp', 'price'])\n",
    "    df['timestamp'] = pd.to_datetime(df['timestamp'], unit='ms')\n",
    "    df.set_index('timestamp', inplace=True)\n",
    "    \n",
    "    # Add volume and market cap\n",
    "    df['volume'] = [x[1] for x in data['total_volumes']]\n",
    "    df['market_cap'] = [x[1] for x in data['market_caps']]\n",
    "    \n",
    "    # Calculate some basic indicators\n",
    "    df['SMA_7'] = df['price'].rolling(window=7, min_periods=1).mean()\n",
    "    df['SMA_30'] = df['price'].rolling(window=30, min_periods=1).mean()\n",
    "    df['RSI'] = calculate_rsi(df['price'])\n",
    "    \n",
    "    if handle_nan == 'drop':\n",
    "        df.dropna(inplace=True)\n",
    "    elif handle_nan == 'ffill':\n",
    "        df.fillna(method='ffill', inplace=True)\n",
    "    elif handle_nan == 'bfill':\n",
    "        df.fillna(method='bfill', inplace=True)\n",
    "    \n",
    "    return df\n",
    "\n",
    "def calculate_rsi(prices, period=14):\n",
    "    delta = prices.diff()\n",
    "    gain = (delta.where(delta > 0, 0)).rolling(window=period, min_periods=1).mean()\n",
    "    loss = (-delta.where(delta < 0, 0)).rolling(window=period, min_periods=1).mean()\n",
    "    rs = gain / loss\n",
    "    return 100 - (100 / (1 + rs))\n",
    "\n",
    "# Example usage\n",
    "coin_id = \"bitcoin\"\n",
    "vs_currency = \"usd\"\n",
    "days = 30\n",
    "\n",
    "df = fetch_crypto_data(coin_id, vs_currency, days, handle_nan='ffill')\n",
    "print(df.head())\n",
    "print(df.tail())"
   ]
  },
  {
   "cell_type": "code",
   "execution_count": null,
   "id": "5143f7e8-dd03-4c26-aa1c-472e2b34e479",
   "metadata": {},
   "outputs": [],
   "source": []
  }
 ],
 "metadata": {
  "kernelspec": {
   "display_name": "Python 3 (ipykernel)",
   "language": "python",
   "name": "python3"
  },
  "language_info": {
   "codemirror_mode": {
    "name": "ipython",
    "version": 3
   },
   "file_extension": ".py",
   "mimetype": "text/x-python",
   "name": "python",
   "nbconvert_exporter": "python",
   "pygments_lexer": "ipython3",
   "version": "3.12.4"
  }
 },
 "nbformat": 4,
 "nbformat_minor": 5
}
